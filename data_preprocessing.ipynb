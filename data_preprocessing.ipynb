{
 "cells": [
  {
   "cell_type": "code",
   "execution_count": 1,
   "metadata": {},
   "outputs": [],
   "source": [
    "#Converting .tif to .jpg images\n",
    "import os\n",
    "from PIL import Image\n",
    "\n",
    "hd_dir=\"Dataset/image_chips_hd\"\n",
    "native_dir=\"Dataset/image_chips_native\"\n",
    "hd_output_dir=\"Dataset/image_chips_hd_jpg\"\n",
    "native_output_dir=\"Dataset/image_chips_native_jpg\"\n",
    "\n",
    "os.makedirs(hd_output_dir,exist_ok=True)\n",
    "os.makedirs(native_output_dir,exist_ok=True)\n",
    "\n",
    "# Function to convert .tif to .jpg\n",
    "def convert_images(image_dir, output_dir):\n",
    "    for file in os.listdir(image_dir):\n",
    "        if file.endswith(\".tif\"):\n",
    "            img = Image.open(os.path.join(image_dir, file))\n",
    "            new_filename = file.replace(\".tif\", \".jpg\")\n",
    "            img.convert(\"RGB\").save(os.path.join(output_dir, new_filename), \"JPEG\")\n",
    "\n"
   ]
  },
  {
   "cell_type": "code",
   "execution_count": 3,
   "metadata": {},
   "outputs": [],
   "source": [
    "\n",
    "# Converting images for HD and Native to jpg\n",
    "convert_images(hd_dir, hd_output_dir)\n",
    "convert_images(native_dir, native_output_dir)"
   ]
  },
  {
   "cell_type": "code",
   "execution_count": 4,
   "metadata": {},
   "outputs": [],
   "source": [
    "#Finding missing labels not corresponding to images and cleaning them\n",
    "\n",
    "hd_label_dir=\"Labels/labels_hd\"\n",
    "native_label_dir=\"Labels/labels_native\"\n",
    "\n",
    "\n",
    "# Getting filenames without .jpg or .txt\n",
    "hd_images={f.replace(\".jpg\", \"\") for f in os.listdir(hd_output_dir)}\n",
    "native_images={f.replace(\".jpg\", \"\") for f in os.listdir(native_output_dir)}\n",
    "hd_labels={f.replace(\".txt\", \"\") for f in os.listdir(hd_label_dir)}\n",
    "native_labels={f.replace(\".txt\", \"\") for f in os.listdir(native_label_dir)}\n",
    "\n",
    "# Find missing labels & extra labels\n",
    "missing_hd_labels=hd_images-hd_labels\n",
    "missing_native_labels=native_images-native_labels\n",
    "extra_hd_labels=hd_labels-hd_images\n",
    "extra_native_labels=native_labels-native_images\n",
    "\n",
    "if extra_hd_labels:\n",
    "    print(list(extra_hd_labels)) #These are the extra hd labels not present in the hd dataset\n"
   ]
  },
  {
   "cell_type": "code",
   "execution_count": 5,
   "metadata": {},
   "outputs": [
    {
     "name": "stdout",
     "output_type": "stream",
     "text": [
      "Not found\n",
      "Not found\n",
      "Not found\n",
      "Not found\n",
      "Not found\n",
      "Not found\n",
      "Not found\n",
      "Not found\n",
      "Not found\n",
      "Not found\n",
      "All Removed!\n"
     ]
    }
   ],
   "source": [
    "\n",
    "# List of extra labels that need to be removed\n",
    "extra_hd_labels = [\n",
    "    \"solarpanels_hd_1__x0_9203_y0_23477_dxdy_832(1)\",\n",
    "    \"solarpanels_hd_1__x0_9203_y0_23322_dxdy_832(1)\",\n",
    "    \"solarpanels_hd_1__x0_9107_y0_23305_dxdy_832(1)\",\n",
    "    \"solarpanels_hd_1__x0_8971_y0_13024_dxdy_832(1)\",\n",
    "    \"solarpanels_hd_1__x0_9076_y0_26335_dxdy_832(1)\",\n",
    "    \"solarpanels_hd_1__x0_9182_y0_23369_dxdy_832(1)\",\n",
    "    \"solarpanels_hd_1__x0_8985_y0_23459_dxdy_832(1)\",\n",
    "    \"solarpanels_hd_1__x0_9018_y0_25843_dxdy_832(1)\",\n",
    "    \"solarpanels_hd_1__x0_9056_y0_21439_dxdy_832(1)\",\n",
    "    \"solarpanels_hd_1__x0_914_y0_14724_dxdy_832(1)\"\n",
    "]\n",
    "\n",
    "# Deleting extra labels\n",
    "for lbl in extra_hd_labels:\n",
    "    label_path = os.path.join(hd_label_dir, lbl + \".txt\")\n",
    "    if os.path.exists(label_path):\n",
    "        os.remove(label_path)\n",
    "    else:\n",
    "        print(\"Not found\")#Shows not found since I have cleaned it already\n",
    "\n",
    "print(\"All Removed!\")\n"
   ]
  },
  {
   "cell_type": "code",
   "execution_count": 6,
   "metadata": {},
   "outputs": [
    {
     "name": "stdout",
     "output_type": "stream",
     "text": [
      "Extra HD labels remaining: 0\n"
     ]
    }
   ],
   "source": [
    "\n",
    "hd_images={f.replace(\".jpg\", \"\") for f in os.listdir(hd_output_dir)}\n",
    "hd_labels={f.replace(\".txt\", \"\") for f in os.listdir(hd_label_dir)}\n",
    "\n",
    "extra_hd_labels=hd_labels-hd_images\n",
    "\n",
    "print(f\"Extra HD labels remaining: {len(extra_hd_labels)}\")\n",
    "\n"
   ]
  },
  {
   "cell_type": "code",
   "execution_count": 7,
   "metadata": {},
   "outputs": [
    {
     "name": "stdout",
     "output_type": "stream",
     "text": [
      "HD labels with errors: 0\n",
      "Native labels with errors: 0\n"
     ]
    }
   ],
   "source": [
    "#Now YOLO needs a 5-tuple in bounding box format (class_id,x_center,y_center,width,height),so checking for consistency\n",
    "\n",
    "def check_label_format(label_dir):\n",
    "    errors = []\n",
    "    \n",
    "    for file in os.listdir(label_dir):\n",
    "        file_path = os.path.join(label_dir, file)\n",
    "        with open(file_path, \"r\") as f:\n",
    "            for line in f:\n",
    "                values = line.strip().split()\n",
    "                \n",
    "                # Check if there are exactly 5 columns\n",
    "                if len(values) != 5:\n",
    "                    errors.append((file, f\"Invalid column count: {len(values)}\"))\n",
    "                    continue\n",
    "                \n",
    "                try:\n",
    "                    class_id, x, y, w, h = map(float, values)\n",
    "                    \n",
    "                    # Check if values are in valid range (0 to 1)\n",
    "                    if not (0 <= x <= 1 and 0 <= y <= 1 and 0 <= w <= 1 and 0 <= h <= 1):\n",
    "                        errors.append((file, f\"Invalid bbox values: {x, y, w, h}\"))\n",
    "                \n",
    "                except ValueError:\n",
    "                    errors.append((file, \"Non-numeric values found\"))\n",
    "\n",
    "    return errors\n",
    "\n",
    "# Check both HD and Native labels\n",
    "invalid_hd = check_label_format(hd_label_dir)\n",
    "invalid_native = check_label_format(native_label_dir)\n",
    "\n",
    "print(f\"HD labels with errors: {len(invalid_hd)}\")\n",
    "print(f\"Native labels with errors: {len(invalid_native)}\")\n",
    "\n"
   ]
  },
  {
   "cell_type": "code",
   "execution_count": 8,
   "metadata": {},
   "outputs": [
    {
     "name": "stdout",
     "output_type": "stream",
     "text": [
      "Fixed label format in: Labels/labels_hd\n",
      "Fixed label format in: Labels/labels_native\n"
     ]
    }
   ],
   "source": [
    "#Checking that all label values are between 0 and 1\n",
    "def fix_label_format(label_dir):\n",
    "    for file, error in check_label_format(label_dir):\n",
    "        file_path = os.path.join(label_dir, file)\n",
    "        with open(file_path, \"r\") as f:\n",
    "            lines = f.readlines()\n",
    "\n",
    "        # Remove incorrect lines\n",
    "        fixed_lines = []\n",
    "        for line in lines:\n",
    "            values = line.strip().split()\n",
    "            if len(values) == 5:\n",
    "                try:\n",
    "                    class_id, x, y, w, h = map(float, values)\n",
    "                    if 0 <= x <= 1 and 0 <= y <= 1 and 0 <= w <= 1 and 0 <= h <= 1:\n",
    "                        fixed_lines.append(line)  # Keeping only valid lines\n",
    "                except ValueError:\n",
    "                    continue\n",
    "\n",
    "        with open(file_path, \"w\") as f:\n",
    "            f.writelines(fixed_lines)\n",
    "\n",
    "    print(f\"Fixed label format in: {label_dir}\")\n",
    "\n",
    "# Applying fixes\n",
    "fix_label_format(hd_label_dir)\n",
    "fix_label_format(native_label_dir)\n"
   ]
  },
  {
   "cell_type": "code",
   "execution_count": 9,
   "metadata": {},
   "outputs": [
    {
     "name": "stdout",
     "output_type": "stream",
     "text": [
      "All native images resized to 416×416.\n"
     ]
    }
   ],
   "source": [
    "#Resizing images to 416x416 \n",
    "from PIL import Image\n",
    "\n",
    "resized_native_dir = \"Dataset/native_resized\"\n",
    "\n",
    "\n",
    "os.makedirs(resized_native_dir, exist_ok=True)\n",
    "\n",
    "# Resize images\n",
    "for file in os.listdir(native_output_dir):\n",
    "    if file.endswith(\".jpg\"):\n",
    "        img = Image.open(os.path.join(native_output_dir, file))\n",
    "        img = img.resize((416, 416), Image.Resampling.LANCZOS)  # Resize with high-quality resampling\n",
    "        img.save(os.path.join(resized_native_dir, file))\n",
    "\n",
    "print(\"All native images resized to 416×416.\")\n"
   ]
  },
  {
   "cell_type": "code",
   "execution_count": 10,
   "metadata": {},
   "outputs": [
    {
     "name": "stdout",
     "output_type": "stream",
     "text": [
      "All hd images resized to 416×416.\n"
     ]
    }
   ],
   "source": [
    "\n",
    "resized_hd_dir = \"Dataset/hd_resized\"\n",
    "\n",
    "os.makedirs(resized_hd_dir, exist_ok=True)\n",
    "\n",
    "# Resize images\n",
    "for file in os.listdir(hd_output_dir):\n",
    "    if file.endswith(\".jpg\"):\n",
    "        img = Image.open(os.path.join(hd_output_dir, file))\n",
    "        img = img.resize((416, 416), Image.Resampling.LANCZOS)  # Resize with high-quality resampling\n",
    "        img.save(os.path.join(resized_hd_dir, file))\n",
    "\n",
    "print(\"All hd images resized to 416×416.\")"
   ]
  },
  {
   "cell_type": "code",
   "execution_count": null,
   "metadata": {},
   "outputs": [],
   "source": []
  }
 ],
 "metadata": {
  "kernelspec": {
   "display_name": "base",
   "language": "python",
   "name": "python3"
  },
  "language_info": {
   "codemirror_mode": {
    "name": "ipython",
    "version": 3
   },
   "file_extension": ".py",
   "mimetype": "text/x-python",
   "name": "python",
   "nbconvert_exporter": "python",
   "pygments_lexer": "ipython3",
   "version": "3.12.7"
  }
 },
 "nbformat": 4,
 "nbformat_minor": 2
}
